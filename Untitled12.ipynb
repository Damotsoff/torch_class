{
  "nbformat": 4,
  "nbformat_minor": 0,
  "metadata": {
    "colab": {
      "provenance": [],
      "gpuType": "T4",
      "authorship_tag": "ABX9TyMEsKLx3FP2A9oxMhrtkxtn",
      "include_colab_link": true
    },
    "kernelspec": {
      "name": "python3",
      "display_name": "Python 3"
    },
    "language_info": {
      "name": "python"
    },
    "accelerator": "GPU"
  },
  "cells": [
    {
      "cell_type": "markdown",
      "metadata": {
        "id": "view-in-github",
        "colab_type": "text"
      },
      "source": [
        "<a href=\"https://colab.research.google.com/github/Damotsoff/torch_class/blob/main/Untitled12.ipynb\" target=\"_parent\"><img src=\"https://colab.research.google.com/assets/colab-badge.svg\" alt=\"Open In Colab\"/></a>"
      ]
    },
    {
      "cell_type": "code",
      "execution_count": null,
      "metadata": {
        "colab": {
          "base_uri": "https://localhost:8080/"
        },
        "id": "XllTXQUT88J6",
        "outputId": "e579a84c-cfab-477e-d724-a8c5c074976c"
      },
      "outputs": [
        {
          "output_type": "stream",
          "name": "stdout",
          "text": [
            "Files already downloaded and verified\n",
            "[1,  2000] loss: 2.083\n",
            "[1,  4000] loss: 1.738\n",
            "[1,  6000] loss: 1.567\n",
            "[1,  8000] loss: 1.435\n",
            "[1, 10000] loss: 1.345\n",
            "[1, 12000] loss: 1.288\n",
            "[2,  2000] loss: 1.186\n",
            "[2,  4000] loss: 1.124\n",
            "[2,  6000] loss: 1.102\n",
            "[2,  8000] loss: 1.072\n",
            "[2, 10000] loss: 1.035\n",
            "[2, 12000] loss: 1.022\n",
            "[3,  2000] loss: 0.952\n",
            "[3,  4000] loss: 0.934\n",
            "[3,  6000] loss: 0.924\n",
            "[3,  8000] loss: 0.891\n",
            "[3, 10000] loss: 0.900\n",
            "[3, 12000] loss: 0.882\n",
            "[4,  2000] loss: 0.759\n",
            "[4,  4000] loss: 0.788\n",
            "[4,  6000] loss: 0.787\n",
            "[4,  8000] loss: 0.794\n",
            "[4, 10000] loss: 0.787\n",
            "[4, 12000] loss: 0.797\n",
            "[5,  2000] loss: 0.647\n",
            "[5,  4000] loss: 0.675\n",
            "[5,  6000] loss: 0.677\n",
            "[5,  8000] loss: 0.711\n",
            "[5, 10000] loss: 0.687\n",
            "[5, 12000] loss: 0.694\n",
            "[6,  2000] loss: 0.558\n",
            "[6,  4000] loss: 0.564\n",
            "[6,  6000] loss: 0.590\n",
            "[6,  8000] loss: 0.619\n",
            "[6, 10000] loss: 0.611\n",
            "[6, 12000] loss: 0.624\n",
            "[7,  2000] loss: 0.463\n",
            "[7,  4000] loss: 0.498\n",
            "[7,  6000] loss: 0.522\n",
            "[7,  8000] loss: 0.535\n",
            "[7, 10000] loss: 0.530\n",
            "[7, 12000] loss: 0.531\n",
            "[8,  2000] loss: 0.390\n",
            "[8,  4000] loss: 0.425\n",
            "[8,  6000] loss: 0.439\n",
            "[8,  8000] loss: 0.456\n",
            "[8, 10000] loss: 0.452\n",
            "[8, 12000] loss: 0.488\n",
            "[9,  2000] loss: 0.319\n",
            "[9,  4000] loss: 0.352\n",
            "[9,  6000] loss: 0.365\n",
            "[9,  8000] loss: 0.417\n",
            "[9, 10000] loss: 0.418\n",
            "[9, 12000] loss: 0.402\n",
            "[10,  2000] loss: 0.272\n",
            "[10,  4000] loss: 0.288\n",
            "[10,  6000] loss: 0.318\n",
            "[10,  8000] loss: 0.354\n",
            "[10, 10000] loss: 0.363\n",
            "[10, 12000] loss: 0.370\n",
            "Обучение завершено\n"
          ]
        }
      ],
      "source": [
        "import torch\n",
        "import torch.nn as nn\n",
        "import torch.optim as optim\n",
        "import torchvision\n",
        "import torchvision.transforms as transforms\n",
        "\n",
        "\n",
        "device = torch.device(\"cuda:0\" if torch.cuda.is_available() else \"cpu\")\n",
        "\n",
        "transform = transforms.Compose([transforms.ToTensor(), transforms.Normalize((0.5, 0.5, 0.5), (0.5, 0.5, 0.5))])\n",
        "\n",
        "trainset = torchvision.datasets.CIFAR10(root='./data', train=True, download=True, transform=transform)\n",
        "trainloader = torch.utils.data.DataLoader(trainset, batch_size=4, shuffle=True, num_workers=2)\n",
        "\n",
        "\n",
        "class UpdatedSimpleNet(nn.Module):\n",
        "    def __init__(self):\n",
        "        super(UpdatedSimpleNet, self).__init__()\n",
        "        self.conv1 = nn.Conv2d(3, 16, 3, padding=1)\n",
        "        self.conv2 = nn.Conv2d(16, 32, 3, padding=1)\n",
        "        self.pool = nn.MaxPool2d(2, 2)\n",
        "        self.fc1 = nn.Linear(32 * 8 * 8, 120)\n",
        "        self.fc2 = nn.Linear(120, 84)\n",
        "        self.fc3 = nn.Linear(84, 10)\n",
        "\n",
        "    def forward(self, x):\n",
        "        x = self.pool(torch.relu(self.conv1(x)))\n",
        "        x = self.pool(torch.relu(self.conv2(x)))\n",
        "        x = x.view(-1, 32 * 8 * 8)\n",
        "        x = torch.relu(self.fc1(x))\n",
        "        x = torch.relu(self.fc2(x))\n",
        "        x = self.fc3(x)\n",
        "        return x\n",
        "\n",
        "net = UpdatedSimpleNet()\n",
        "net.to(device)\n",
        "\n",
        "criterion = nn.CrossEntropyLoss()\n",
        "optimizer = optim.SGD(net.parameters(), lr=0.001, momentum=0.9)\n",
        "\n",
        "\n",
        "for epoch in range(10):\n",
        "    running_loss = 0.0\n",
        "    for i, data in enumerate(trainloader, 0):\n",
        "        inputs, labels = data\n",
        "        inputs, labels = inputs.to(device), labels.to(device)\n",
        "\n",
        "        optimizer.zero_grad()\n",
        "\n",
        "        outputs = net(inputs)\n",
        "        loss = criterion(outputs, labels)\n",
        "        loss.backward()\n",
        "        optimizer.step()\n",
        "\n",
        "        running_loss += loss.item()\n",
        "        if i % 2000 == 1999:\n",
        "            print(f\"[{epoch + 1}, {i + 1:5d}] loss: {running_loss / 2000:.3f}\")\n",
        "            running_loss = 0.0\n",
        "\n",
        "print(\"Обучение завершено\")\n",
        "\n",
        "PATH = \"./updated_simple_net.pth\"\n",
        "torch.save(net.state_dict(), PATH)\n",
        "\n",
        "\n",
        "\n",
        "\n"
      ]
    },
    {
      "cell_type": "code",
      "source": [
        "from PIL import Image\n",
        "class_labels = [\"Самолет\", \"Автомобиль\", \"Птица\", \"Кот\", \"Олень\", \"Собака\", \"Лягушка\", \"Лошадь\", \"Корабль\", \"Грузовик\"]\n",
        "\n",
        "net.load_state_dict(torch.load(PATH))\n",
        "net.eval()\n",
        "transform = transforms.Compose([transforms.ToTensor(), transforms.Normalize((0.5, 0.5, 0.5), (0.5, 0.5, 0.5))])\n",
        "image = Image.open(\"car.jpg\")\n",
        "image = image.resize((32, 32))\n",
        "input_data = transform(image)\n",
        "input_data = input_data.unsqueeze(0)\n",
        "input_data = input_data.to(device)\n",
        "\n",
        "with torch.no_grad():\n",
        "  outputs = net(input_data)\n",
        "\n",
        "_, predicted = torch.max(outputs, 1)\n",
        "predicted_class_label = class_labels[predicted.item()]\n",
        "print(\"Предсказанный класс:\", predicted_class_label)"
      ],
      "metadata": {
        "colab": {
          "base_uri": "https://localhost:8080/"
        },
        "id": "7VMNqZBF-vmd",
        "outputId": "9e4dfdc4-b37a-47c8-d8d6-c1f630ac9ae0"
      },
      "execution_count": null,
      "outputs": [
        {
          "output_type": "stream",
          "name": "stdout",
          "text": [
            "Предсказанный класс: Автомобиль\n"
          ]
        }
      ]
    },
    {
      "cell_type": "code",
      "source": [
        "\n"
      ],
      "metadata": {
        "id": "juCpnZ9a-8O2"
      },
      "execution_count": null,
      "outputs": []
    },
    {
      "cell_type": "code",
      "source": [],
      "metadata": {
        "colab": {
          "base_uri": "https://localhost:8080/"
        },
        "id": "onRcISU6AE5S",
        "outputId": "630703ba-ac2c-4c50-f8e9-0f206ec0abc6"
      },
      "execution_count": null,
      "outputs": [
        {
          "output_type": "stream",
          "name": "stdout",
          "text": [
            "--2023-10-04 14:43:10--  https://s0.rbk.ru/v6_top_pics/media/img/8/18/756758611773188.jpg\n",
            "Resolving s0.rbk.ru (s0.rbk.ru)... 185.72.229.2, 80.68.253.2\n",
            "Connecting to s0.rbk.ru (s0.rbk.ru)|185.72.229.2|:443... connected.\n",
            "HTTP request sent, awaiting response... 200 OK\n",
            "Length: 143922 (141K) [image/jpeg]\n",
            "Saving to: ‘756758611773188.jpg’\n",
            "\n",
            "756758611773188.jpg 100%[===================>] 140.55K   123KB/s    in 1.1s    \n",
            "\n",
            "2023-10-04 14:43:13 (123 KB/s) - ‘756758611773188.jpg’ saved [143922/143922]\n",
            "\n"
          ]
        }
      ]
    },
    {
      "cell_type": "code",
      "source": [
        "\n",
        "\n"
      ],
      "metadata": {
        "colab": {
          "base_uri": "https://localhost:8080/"
        },
        "id": "Qdr3dXggBWkr",
        "outputId": "d6584561-5d0e-4617-ed1e-736a4059ebe7"
      },
      "execution_count": null,
      "outputs": [
        {
          "output_type": "stream",
          "name": "stdout",
          "text": [
            "Предсказанный класс: класс 1\n"
          ]
        }
      ]
    }
  ]
}